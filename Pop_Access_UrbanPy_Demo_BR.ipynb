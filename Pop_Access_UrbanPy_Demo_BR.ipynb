{
 "cells": [
  {
   "cell_type": "code",
   "execution_count": null,
   "id": "9d602f2f-c913-4467-be82-45c6fd6b0a8f",
   "metadata": {},
   "outputs": [],
   "source": [
    "# Suppress warnings\n",
    "import warnings\n",
    "warnings.filterwarnings('ignore')"
   ]
  },
  {
   "cell_type": "code",
   "execution_count": null,
   "id": "7e5cf1dd-b617-4373-b768-620204f7f4ef",
   "metadata": {},
   "outputs": [],
   "source": [
    "import urbanpy as up\n",
    "import pandas as pd\n",
    "import geopandas as gpd\n",
    "import contextily as cx\n",
    "import plotly\n",
    "import plotly.express as px\n",
    "import matplotlib.pyplot as plt\n",
    "import time\n",
    "from mpl_toolkits.axes_grid1.axes_divider import make_axes_locatable\n",
    "from matplotlib.lines import Line2D\n",
    "from tqdm.auto import tqdm"
   ]
  },
  {
   "cell_type": "code",
   "execution_count": null,
   "id": "c91098f5-dc66-4f26-9486-d889ce5c4468",
   "metadata": {},
   "outputs": [],
   "source": [
    "tqdm.pandas() # Activate progress bar for pandas apply"
   ]
  },
  {
   "cell_type": "code",
   "execution_count": null,
   "id": "deb90682-13ff-44f3-9326-46250d11c694",
   "metadata": {},
   "outputs": [],
   "source": [
    "def accessibility_analysis(hexagons, pois):\n",
    "    # Calculate the Nearest Facility for each Hexagon\n",
    "    hexagons['lon'] = hexagons.geometry.centroid.x\n",
    "    hexagons['lat'] = hexagons.geometry.centroid.y\n",
    "    \n",
    "    dists, ixs = up.utils.nn_search(\n",
    "        tree_features=pois[['lat', 'lon']].values,\n",
    "        query_features=hexagons[['lat', 'lon']].values,\n",
    "        metric='haversine'\n",
    "    )\n",
    "    \n",
    "    hexagons[\"nearest_poi_ix\"] = ixs\n",
    "    \n",
    "    # Calculate travel times and distances\n",
    "    distance_duration = hexagons.progress_apply(\n",
    "        lambda row: up.routing.osrm_route(\n",
    "            origin=row.geometry.centroid, \n",
    "            destination = pois.iloc[row['nearest_poi_ix']]['geometry']\n",
    "        ),\n",
    "        result_type='expand',\n",
    "        axis=1,\n",
    "    )\n",
    "    \n",
    "    # Add columns to dataframe\n",
    "    hexagons['distance_to_nearest_poi'] =  distance_duration[0] / 1000 # meters to km\n",
    "    hexagons['duration_to_nearest_poi'] = distance_duration[1] / 60 # seconds to minutes\n",
    "    \n",
    "    custom_bins, custom_labels = up.utils.create_duration_labels(hexagons['duration_to_nearest_poi'])\n",
    "    hexagons['duration_to_nearest_poi_label'] = pd.cut(hexagons['duration_to_nearest_poi'], bins=custom_bins, labels=custom_labels)\n",
    "        \n",
    "    return hexagons"
   ]
  },
  {
   "cell_type": "code",
   "execution_count": null,
   "id": "a5e18215-ff3c-4c06-89ba-8d6c1ff2f3d8",
   "metadata": {},
   "outputs": [],
   "source": [
    "def gen_map(city_str, pop_df, pop_col, hex_res, poi_type, osrm_server, city_id=0):\n",
    "    city = up.download.nominatim_osm(city_str, city_id)\n",
    "    city.plot()\n",
    "    plt.show()\n",
    "    \n",
    "    hexs_city = up.geom.gen_hexagons(resolution=hex_res, city=city)\n",
    "    print(\"hex num:\", hexs_city.shape[0])\n",
    "    \n",
    "    city_pop = up.geom.filter_population(pop_df, city)\n",
    "    hexs_city_pop = up.geom.merge_shape_hex(hexs_city, city_pop, agg={pop_col: \"sum\"})\n",
    "    \n",
    "    city_hf = up.download.overpass_pois(city.total_bounds, poi_type)\n",
    "    print(\"poi num:\", city_hf.shape[0])\n",
    "    \n",
    "    up.routing.start_osrm_server(osrm_server[\"country\"], osrm_server[\"continent\"], \"foot\")\n",
    "    time.sleep(20) # Big server\n",
    "    \n",
    "    for i in range(5):\n",
    "        try:\n",
    "            hexs_city_pop_access = accessibility_analysis(hexagons=hexs_city_pop, pois=city_hf)\n",
    "            \n",
    "            up.routing.stop_osrm_server(osrm_server[\"country\"], osrm_server[\"continent\"], \"foot\")\n",
    "            \n",
    "            fig, ax = plt.subplots(1, 1, figsize=(10, 10))\n",
    "            divider = make_axes_locatable(ax)\n",
    "            cax = divider.append_axes(\"right\", size=\"5%\", pad=0.1)\n",
    "            hexs_city_pop_access.query(f\"{pop_col} > 0\").plot(f\"{pop_col}\", alpha=0.5, legend=True, cax=cax, ax=ax)\n",
    "            ax.set_title(f'Population \\nat H3 hexagons resolution {hex_res}')\n",
    "            ax.set_axis_off()\n",
    "            cx.add_basemap(ax, source=cx.providers.CartoDB.Positron, crs='EPSG:4326')\n",
    "            # plt.savefig('outputs/static_maps/population_brasilia.png', dpi=300, bbox_inches='tight')\n",
    "            plt.show()\n",
    "\n",
    "            fig, ax = plt.subplots(1, 1, figsize=(10, 10))\n",
    "            hexs_city_pop_access.query(f\"{pop_col} > 0\").plot(\"duration_to_nearest_poi_label\", cmap='magma_r',\n",
    "                                                              alpha=0.5, legend=True, ax=ax)\n",
    "            ax.set_title(f'Accessibility to Health Facilities\\nat H3 hexagons resolution {hex_res}')\n",
    "            ax.set_axis_off()\n",
    "            cx.add_basemap(ax, source=cx.providers.OpenStreetMap.Mapnik, crs='EPSG:4326')\n",
    "            plt.savefig(f\"{city_str.lower().replace(' ', '_')}.png\", dpi=300, bbox_inches='tight')\n",
    "            plt.show()\n",
    "            \n",
    "            break\n",
    "        except Exception as e:\n",
    "            print(\"Exception:\", e)\n",
    "            time.sleep(5)\n",
    "    \n",
    "    return hexs_city_pop_access"
   ]
  },
  {
   "cell_type": "code",
   "execution_count": null,
   "id": "b58dc86b-386c-4942-b95f-09ed875e2b04",
   "metadata": {},
   "outputs": [],
   "source": [
    "def interactive_map(gdf, city_str, pop_col, labels):\n",
    "    fig = up.plotting.choropleth_map(\n",
    "        title=f'Access to Health Places in {city_str}',\n",
    "        gdf=gdf.query(f'{pop_col} > 0').reset_index(drop=True), \n",
    "        color_column='duration_to_nearest_poi_label',\n",
    "        color_discrete_sequence=px.colors.sequential.Magma_r, \n",
    "        category_orders={'duration_to_nearest_poi_label': labels}, \n",
    "        labels={'duration_to_nearest_poi_label': 'Minutes'},\n",
    "        zoom=9, opacity=0.5,\n",
    "    )\n",
    "\n",
    "    fig.update_layout(\n",
    "        margin=dict(l=0, r=0, b=0),\n",
    "        mapbox_style='open-street-map',\n",
    "    )\n",
    "\n",
    "    fig.update_traces(marker_line_width=0)\n",
    "    fig.write_html(f\"{city_str.lower().replace(' ', '_')}.html\")\n",
    "    fig.show()\n",
    "    "
   ]
  },
  {
   "cell_type": "code",
   "execution_count": null,
   "id": "b7ca1fdb-93f3-4c4a-8b69-428d0f88c3b5",
   "metadata": {},
   "outputs": [],
   "source": [
    "# Download country population\n",
    "brasil_pop = up.download.hdx_fb_population(country=\"brazil\", map_type=\"elderly\")"
   ]
  },
  {
   "cell_type": "code",
   "execution_count": null,
   "id": "7012cf9e-1be6-4a8e-a7e8-94f5113f746e",
   "metadata": {},
   "outputs": [],
   "source": [
    "# Population parameters\n",
    "pop_df=brasil_pop\n",
    "pop_col=\"population\""
   ]
  },
  {
   "cell_type": "code",
   "execution_count": null,
   "id": "65f512e5-9963-44f1-964d-97445dfe4eb5",
   "metadata": {},
   "outputs": [],
   "source": [
    "# General parameters\n",
    "hex_res=7\n",
    "poi_type='health'\n",
    "osrm_server={\"country\":\"sudeste\", \"continent\":\"south-america_brazil\"}"
   ]
  },
  {
   "cell_type": "code",
   "execution_count": null,
   "id": "801f577d-41d4-4894-a3d8-e0ebee316e9f",
   "metadata": {
    "tags": []
   },
   "outputs": [],
   "source": [
    "city_str='São Paulo, Brazil'\n",
    "hexs_sp_pop_access = gen_map(city_str, pop_df, pop_col, hex_res, poi_type, osrm_server)"
   ]
  },
  {
   "cell_type": "code",
   "execution_count": null,
   "id": "1c2181ce-866f-4699-a099-fac6904307e3",
   "metadata": {
    "tags": []
   },
   "outputs": [],
   "source": [
    "city_str='Rio de Janeiro, Brazil'\n",
    "hexs_rj_pop_access = gen_map(city_str, pop_df, pop_col, hex_res, poi_type, osrm_server)"
   ]
  },
  {
   "cell_type": "code",
   "execution_count": null,
   "id": "b68e8326-9633-4a71-8033-74c313faa6c0",
   "metadata": {
    "tags": []
   },
   "outputs": [],
   "source": [
    "city_str='Campinas, Brazil'\n",
    "hexs_campinas_pop_access = gen_map(city_str, pop_df, pop_col, hex_res, poi_type, osrm_server)"
   ]
  },
  {
   "cell_type": "code",
   "execution_count": null,
   "id": "cc253ef4-fdb1-4d29-bf01-406d84532a9c",
   "metadata": {
    "tags": []
   },
   "outputs": [],
   "source": [
    "# Specific parameters for Brasilia\n",
    "city_str=\"Brasília, Distrito Federal, Brazil\"\n",
    "city_id=1\n",
    "hex_res=8\n",
    "osrm_server={\"country\":\"centro-oeste\", \"continent\":\"south-america_brazil\"}"
   ]
  },
  {
   "cell_type": "code",
   "execution_count": null,
   "id": "9e137b87-7b6d-47fd-ae95-13c7398f3772",
   "metadata": {
    "tags": []
   },
   "outputs": [],
   "source": [
    "hexs_brasilia_pop_access = gen_map(city_str, pop_df, pop_col, hex_res, poi_type, osrm_server, city_id=city_id)"
   ]
  },
  {
   "cell_type": "code",
   "execution_count": null,
   "id": "d80ee569-6eca-4966-b17e-09d5f5606517",
   "metadata": {},
   "outputs": [],
   "source": [
    "# Specific parameters for Florianopolis\n",
    "city_str=\"Florianopolis\"\n",
    "hex_res=8\n",
    "poi_type='education'\n",
    "osrm_server={\"country\":\"sul\", \"continent\":\"south-america_brazil\"}"
   ]
  },
  {
   "cell_type": "code",
   "execution_count": null,
   "id": "a65a7f60-40f8-4531-8e19-d997a6aeeef2",
   "metadata": {},
   "outputs": [],
   "source": [
    "hexs_florianopolis_pop_access = gen_map(city_str, pop_df, pop_col, hex_res, poi_type, osrm_server)"
   ]
  },
  {
   "cell_type": "code",
   "execution_count": null,
   "id": "6c9c2680-96a0-432a-817f-2e92f86c1b7f",
   "metadata": {},
   "outputs": [],
   "source": [
    "plotly.offline.init_notebook_mode()"
   ]
  },
  {
   "cell_type": "code",
   "execution_count": null,
   "id": "0b166aa7-4bec-421c-9bc7-8d1266df0d52",
   "metadata": {},
   "outputs": [],
   "source": [
    "labels = hexs_sp_pop_access['duration_to_nearest_poi_label'].unique().sort_values()"
   ]
  },
  {
   "cell_type": "code",
   "execution_count": null,
   "id": "0d944bba-8b30-4bc3-9336-d75b64bbcc80",
   "metadata": {},
   "outputs": [],
   "source": [
    "interactive_map(hexs_rj_pop_access, 'Rio de Janeiro', pop_col, labels)"
   ]
  },
  {
   "cell_type": "code",
   "execution_count": null,
   "id": "95638496-7165-4704-8c38-a25d1fea9932",
   "metadata": {},
   "outputs": [],
   "source": [
    "interactive_map(hexs_sp_pop_access, 'Sao Paulo', pop_col, labels)"
   ]
  },
  {
   "cell_type": "code",
   "execution_count": null,
   "id": "84c47796-5ef9-4eb4-850a-2981a705a335",
   "metadata": {},
   "outputs": [],
   "source": [
    "interactive_map(hexs_campinas_pop_access, 'Campiñas', pop_col, labels)"
   ]
  },
  {
   "cell_type": "code",
   "execution_count": null,
   "id": "70a4e4e3-82a9-41ba-9f53-6b1ddce5fb93",
   "metadata": {},
   "outputs": [],
   "source": [
    "interactive_map(hexs_brasilia_pop_access, 'Brasilia', pop_col, labels)"
   ]
  },
  {
   "cell_type": "code",
   "execution_count": null,
   "id": "6c4dacc9-6c74-45ea-b227-c17f47c96f19",
   "metadata": {},
   "outputs": [],
   "source": [
    "interactive_map(hexs_florianopolis_pop_access, 'Florianopolis', pop_col, labels)"
   ]
  },
  {
   "cell_type": "code",
   "execution_count": null,
   "id": "bbf8aee0-e85a-4e22-af39-e412975c1c3a",
   "metadata": {},
   "outputs": [],
   "source": []
  }
 ],
 "metadata": {
  "kernelspec": {
   "display_name": "Python 3 (ipykernel)",
   "language": "python",
   "name": "python3"
  },
  "language_info": {
   "codemirror_mode": {
    "name": "ipython",
    "version": 3
   },
   "file_extension": ".py",
   "mimetype": "text/x-python",
   "name": "python",
   "nbconvert_exporter": "python",
   "pygments_lexer": "ipython3",
   "version": "3.10.9"
  }
 },
 "nbformat": 4,
 "nbformat_minor": 5
}
